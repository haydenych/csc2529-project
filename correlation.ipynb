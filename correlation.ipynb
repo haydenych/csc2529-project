{
 "cells": [
  {
   "cell_type": "code",
   "execution_count": 38,
   "metadata": {},
   "outputs": [],
   "source": [
    "import matplotlib.pyplot as plt\n",
    "import numpy as np"
   ]
  },
  {
   "cell_type": "code",
   "execution_count": 39,
   "metadata": {},
   "outputs": [],
   "source": [
    "def print_noise_map(map):\n",
    "    assert(len(map.shape) == 2)\n",
    "\n",
    "    for row in map:\n",
    "            for num in row:\n",
    "                print(format(num, \".4f\"), end=\"\\t\")\n",
    "            print()"
   ]
  },
  {
   "cell_type": "code",
   "execution_count": 40,
   "metadata": {},
   "outputs": [],
   "source": [
    "def plot_noise_map(map):\n",
    "    plt.imshow(map, cmap='hot', interpolation='nearest')\n",
    "    plt.show()"
   ]
  },
  {
   "cell_type": "code",
   "execution_count": 41,
   "metadata": {},
   "outputs": [],
   "source": [
    "with open(\"./output/noise_total_10.npy\", \"rb\") as f:\n",
    "    noise_map_total = np.load(f)"
   ]
  },
  {
   "cell_type": "code",
   "execution_count": 42,
   "metadata": {},
   "outputs": [
    {
     "name": "stdout",
     "output_type": "stream",
     "text": [
      "0.0133\t0.0093\t0.0144\t0.0115\t0.0310\t0.0103\t0.0130\t0.0086\t0.0138\t\n",
      "0.0090\t0.0102\t0.0130\t0.0501\t0.0725\t0.0495\t0.0122\t0.0103\t0.0105\t\n",
      "0.0140\t0.0118\t0.0720\t0.1846\t0.2356\t0.1842\t0.0716\t0.0125\t0.0152\t\n",
      "0.0115\t0.0480\t0.1833\t0.4182\t0.5633\t0.4180\t0.1833\t0.0485\t0.0116\t\n",
      "0.0316\t0.0707\t0.2336\t0.5618\t1.0000\t0.5618\t0.2336\t0.0707\t0.0316\t\n",
      "0.0116\t0.0485\t0.1833\t0.4180\t0.5633\t0.4182\t0.1833\t0.0480\t0.0115\t\n",
      "0.0152\t0.0125\t0.0716\t0.1842\t0.2356\t0.1846\t0.0720\t0.0118\t0.0140\t\n",
      "0.0105\t0.0103\t0.0122\t0.0495\t0.0725\t0.0501\t0.0130\t0.0102\t0.0090\t\n",
      "0.0138\t0.0086\t0.0130\t0.0103\t0.0310\t0.0115\t0.0144\t0.0093\t0.0133\t\n"
     ]
    }
   ],
   "source": [
    "print_noise_map(noise_map_total)"
   ]
  },
  {
   "cell_type": "code",
   "execution_count": 43,
   "metadata": {},
   "outputs": [
    {
     "data": {
      "image/png": "[encoded data removed]",
      "text/plain": [
       "<Figure size 640x480 with 1 Axes>"
      ]
     },
     "metadata": {},
     "output_type": "display_data"
    }
   ],
   "source": [
    "plot_noise_map(noise_map_total)"
   ]
  },
  {
   "cell_type": "code",
   "execution_count": 7,
   "metadata": {},
   "outputs": [],
   "source": [
    "with open(\"./output/noise_individual_10.npy\", \"rb\") as f:\n",
    "    noise_map_individual = np.load(f)"
   ]
  },
  {
   "cell_type": "code",
   "execution_count": 26,
   "metadata": {},
   "outputs": [
    {
     "name": "stdout",
     "output_type": "stream",
     "text": [
      "0.0046\t0.0022\t0.0021\t0.0035\t0.0190\t0.0008\t0.0022\t0.0048\t0.0069\t\n",
      "0.0022\t0.0050\t0.0054\t0.0462\t0.0686\t0.0451\t0.0055\t0.0064\t0.0067\t\n",
      "0.0037\t0.0075\t0.0690\t0.1919\t0.2387\t0.1897\t0.0683\t0.0097\t0.0073\t\n",
      "0.0062\t0.0503\t0.1948\t0.4384\t0.5816\t0.4373\t0.1938\t0.0515\t0.0076\t\n",
      "0.0242\t0.0751\t0.2445\t0.5835\t1.0000\t0.5835\t0.2445\t0.0751\t0.0242\t\n",
      "0.0076\t0.0515\t0.1938\t0.4373\t0.5816\t0.4384\t0.1948\t0.0503\t0.0062\t\n",
      "0.0073\t0.0097\t0.0683\t0.1897\t0.2387\t0.1919\t0.0690\t0.0075\t0.0037\t\n",
      "0.0067\t0.0064\t0.0055\t0.0451\t0.0686\t0.0462\t0.0054\t0.0050\t0.0022\t\n",
      "0.0069\t0.0048\t0.0022\t0.0008\t0.0190\t0.0035\t0.0021\t0.0022\t0.0046\t\n"
     ]
    }
   ],
   "source": [
    "print_noise_map(noise_map_individual[0])"
   ]
  },
  {
   "cell_type": "code",
   "execution_count": null,
   "metadata": {},
   "outputs": [],
   "source": []
  }
 ],
 "metadata": {
  "kernelspec": {
   "display_name": "CSC2529_Project",
   "language": "python",
   "name": "python3"
  },
  "language_info": {
   "codemirror_mode": {
    "name": "ipython",
    "version": 3
   },
   "file_extension": ".py",
   "mimetype": "text/x-python",
   "name": "python",
   "nbconvert_exporter": "python",
   "pygments_lexer": "ipython3",
   "version": "3.11.5"
  }
 },
 "nbformat": 4,
 "nbformat_minor": 2
}
